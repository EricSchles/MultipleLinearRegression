{
 "metadata": {
  "name": ""
 },
 "nbformat": 3,
 "nbformat_minor": 0,
 "worksheets": [
  {
   "cells": [
    {
     "cell_type": "code",
     "collapsed": false,
     "input": [
      "new_data = open(\"life_exp.csv\",\"w\")\n",
      "f = open(\"data-text.csv\")\n",
      "for line in f:\n",
      "    if \"Both sexes\" in line:\n",
      "        if \"birth\" in line:\n",
      "            new_data.write(line)"
     ],
     "language": "python",
     "metadata": {},
     "outputs": [],
     "prompt_number": 3
    }
   ],
   "metadata": {}
  }
 ]
}