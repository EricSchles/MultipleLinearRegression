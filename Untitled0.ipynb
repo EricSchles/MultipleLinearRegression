{
 "metadata": {
  "name": ""
 },
 "nbformat": 3,
 "nbformat_minor": 0,
 "worksheets": [
  {
   "cells": [
    {
     "cell_type": "code",
     "collapsed": false,
     "input": [
      "new_data = open(\"education.csv\",\"w\")\n",
      "f = open(\"education_stuff.csv\")\n",
      "\n",
      "for line in f:\n",
      "    if \"Percentage of students in primary education who are female (%)\" in line:\n",
      "        new_data.write(line)\n",
      "    "
     ],
     "language": "python",
     "metadata": {},
     "outputs": [],
     "prompt_number": 1
    }
   ],
   "metadata": {}
  }
 ]
}